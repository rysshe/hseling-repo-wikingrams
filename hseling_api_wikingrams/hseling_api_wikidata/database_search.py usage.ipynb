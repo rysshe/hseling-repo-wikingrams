{
 "cells": [
  {
   "cell_type": "code",
   "execution_count": 7,
   "metadata": {
    "pycharm": {
     "is_executing": false
    }
   },
   "outputs": [],
   "source": [
    "from pymystem3 import Mystem\n",
    "from string import punctuation\n",
    "from database_search import DatabaseSearch, NotFoundError\n",
    "from connect_to_db import connect\n",
    "\n",
    "punct = punctuation+'«»—…“”*–'\n",
    "morph = Mystem()\n",
    "\n",
    "def search(ngrams:list):\n",
    "    cursor = connect(\"../wikidata.db\")\n",
    "    try: \n",
    "        data = DatabaseSearch(ngrams=ngrams, \n",
    "                              morph=morph, \n",
    "                              punct=punct,\n",
    "                              cursor=cursor)\n",
    "        \n",
    "        return {\"ngrams\": data.ngrams,\n",
    "                \"csv_result\": data.csv_format}\n",
    "        \n",
    "    except NotFoundError:\n",
    "        print(\"Ngrams not found\")"
   ]
  },
  {
   "cell_type": "code",
   "execution_count": 8,
   "metadata": {},
   "outputs": [],
   "source": [
    "from io import StringIO\n",
    "import pandas as pd"
   ]
  },
  {
   "cell_type": "code",
   "execution_count": 9,
   "metadata": {
    "pycharm": {
     "is_executing": false
    }
   },
   "outputs": [],
   "source": [
    "out = search([\"антипротон\", \"москва\"])"
   ]
  },
  {
   "cell_type": "code",
   "execution_count": 10,
   "metadata": {
    "scrolled": false,
    "pycharm": {
     "name": "#%%\n"
    }
   },
   "outputs": [
    {
     "data": {
      "text/plain": [
       "{'ngrams': ['антипротон', 'москва'],\n",
       " 'csv_result': ',entry_id,ngram,wiki_entity,Q_number,property_code,property_value,object,organization,just_date,start_time,end_time,time_point,growth_speed,google_year,google_period\\n0,0,антипротон,антипротон,Q107575,P575,дата открытия,nan,nan,1955-01-01,nan,nan,nan,1.940934568688324,1956,nan\\n1,1,москва,Москва,Q1949026,P571,дата основания\\u202f/\\u2009создания\\u202f/\\u2009возникновения,nan,nan,2009-01-01,nan,nan,nan,2.683365739272918,2009,nan\\n2,2,москва,Москва,Q591977,P31,это частный случай понятия,утраченное здание или сооружение,nan,nan,1994-01-01,nan,nan,1.8467694915057624,1994,nan\\n3,3,москва,Москва,Q591977,P31,это частный случай понятия,уличный бассейн,nan,nan,1960-01-01,1994-01-01,nan,1.8467694915057624,1994,nan\\n4,4,москва,Москва,Q4303740,P577,дата публикации,nan,nan,1997-01-01,nan,nan,nan,2.2215372553504924,1997,nan\\n5,5,москва,Москва,Q591977,P793,ключевое событие,строительство,nan,nan,1958-01-01,1960-01-01,nan,1.723838472592471,2008,nan\\n'}"
      ]
     },
     "execution_count": 10,
     "metadata": {},
     "output_type": "execute_result"
    }
   ],
   "source": [
    "out"
   ]
  }
 ],
 "metadata": {
  "kernelspec": {
   "display_name": "Python 3",
   "language": "python",
   "name": "python3"
  },
  "language_info": {
   "codemirror_mode": {
    "name": "ipython",
    "version": 3
   },
   "file_extension": ".py",
   "mimetype": "text/x-python",
   "name": "python",
   "nbconvert_exporter": "python",
   "pygments_lexer": "ipython3",
   "version": "3.7.6"
  },
  "pycharm": {
   "stem_cell": {
    "cell_type": "raw",
    "source": [],
    "metadata": {
     "collapsed": false
    }
   }
  }
 },
 "nbformat": 4,
 "nbformat_minor": 2
}